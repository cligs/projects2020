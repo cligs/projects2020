{
 "cells": [
  {
   "cell_type": "code",
   "execution_count": 3,
   "metadata": {},
   "outputs": [],
   "source": [
    "wdir = \"/home/jose/Dropbox/Doktorarbeit/publications/201902 Stylistics/publication/data/\""
   ]
  },
  {
   "cell_type": "code",
   "execution_count": 4,
   "metadata": {},
   "outputs": [
    {
     "data": {
      "text/plain": [
       "'/home/jose/Dropbox/Doktorarbeit/publications/201902 Stylistics/publication/data/corde_comp_metadatos.csv'"
      ]
     },
     "execution_count": 4,
     "metadata": {},
     "output_type": "execute_result"
    }
   ],
   "source": [
    "from shutil import copyfile\n",
    "\n",
    "copyfile(\"/home/jose/Dropbox/biblioteca/corpora/corde/corde_comp_low_7000.pqt\", wdir+\"corde_comp_low_7000.pqt\")\n",
    "copyfile(\"/home/jose/Dropbox/biblioteca/corpora/corde/corde_vocabulary_w_punct_7000.csv\",  wdir+\"corde_vocabulary_w_punct_7000.csv\")\n",
    "copyfile(\"/home/jose/Dropbox/biblioteca/corpora/corde/corde_comp_metadatos.csv\",  wdir+\"corde_comp_metadatos.csv\")\n"
   ]
  },
  {
   "cell_type": "code",
   "execution_count": null,
   "metadata": {},
   "outputs": [],
   "source": []
  }
 ],
 "metadata": {
  "kernelspec": {
   "display_name": "Python 3",
   "language": "python",
   "name": "python3"
  },
  "language_info": {
   "codemirror_mode": {
    "name": "ipython",
    "version": 3
   },
   "file_extension": ".py",
   "mimetype": "text/x-python",
   "name": "python",
   "nbconvert_exporter": "python",
   "pygments_lexer": "ipython3",
   "version": "3.6.8"
  }
 },
 "nbformat": 4,
 "nbformat_minor": 2
}
